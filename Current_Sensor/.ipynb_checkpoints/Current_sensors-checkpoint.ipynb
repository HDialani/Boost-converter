{
 "cells": [
  {
   "cell_type": "markdown",
   "metadata": {},
   "source": [
    "# Read me"
   ]
  },
  {
   "cell_type": "markdown",
   "metadata": {},
   "source": [
    "Pro's and cons of all the possible current sensor option in power electronics. The options are Resistor Shunt, Rogowski coil, Current Transformer and Closed Loop Hall Effect.\n",
    "$ \\def\\euro{\\unicode{x20AC}} $\n",
    "$ \\def\\yen{\\unicode{x00A5}}  $\n",
    "$ \\def\\pound{\\unicode{x00A3}} $\n",
    "$ \\def\\dollar{\\unicode{x024}} $"
   ]
  },
  {
   "cell_type": "markdown",
   "metadata": {},
   "source": [
    "# Methods in detail"
   ]
  },
  {
   "cell_type": "markdown",
   "metadata": {},
   "source": [
    "## Shunt\n",
    "For resistor shunt it is quite straightforward you measure it's voltage and you know its resistance so using $I=\\frac{V}{R}$ you can know the measured current. For this setup the OAR3 - R020FI was used here is it's [datasheet](https://www.ttelectronics.com/TTElectronics/media/ProductFiles/Datasheets/OAR.pdf) "
   ]
  },
  {
   "cell_type": "markdown",
   "metadata": {},
   "source": [
    "### IGBT Measurement\n",
    "Okay lets measure and see what we get. Below the voltage measured over the shunt.\n",
    "\n",
    "<img src=\"Images/IGBT_Shunt_Full_Bandwidth.png\" width=500>\n",
    "\n",
    "So... not really what what was expected it is extremely noisy. But why? The answer is inductance. The shunt's inductance is causing voltage overshoots. Everytime there is a sudden change in current the shunt's inductance causes a voltage overshoot. Thankfully there is a way of removing this large overshoots and that is to filter out the high frequencies. The image below shows the results where the scops was set to $500 kHz$ bandwidth.\n",
    "\n",
    "<img src=\"Images/IGBT_Shunt_500kHz_Bandwidth.png\" width=500>"
   ]
  },
  {
   "cell_type": "markdown",
   "metadata": {},
   "source": [
    "### MOSFET Measurement"
   ]
  },
  {
   "cell_type": "markdown",
   "metadata": {},
   "source": [
    "## Shunt Pro's and Con's\n",
    "\n",
    "Pro's\n",
    "* It costs $0.33 \\euro$. At the time of April 2022 ,but it may be out of stock due to electronics shortage or increased in cost due to inflation 😥. \n",
    "* Can measure AC and DC current\n",
    "\n",
    "Con's\n",
    "* Needs to be directly in the desired current signals path.\n",
    "* Not isolated\n",
    "* The noise that needs to be filtered"
   ]
  },
  {
   "cell_type": "code",
   "execution_count": null,
   "metadata": {},
   "outputs": [],
   "source": []
  }
 ],
 "metadata": {
  "kernelspec": {
   "display_name": "Python 3",
   "language": "python",
   "name": "python3"
  },
  "language_info": {
   "codemirror_mode": {
    "name": "ipython",
    "version": 3
   },
   "file_extension": ".py",
   "mimetype": "text/x-python",
   "name": "python",
   "nbconvert_exporter": "python",
   "pygments_lexer": "ipython3",
   "version": "3.7.4"
  },
  "latex_envs": {
   "LaTeX_envs_menu_present": true,
   "autoclose": false,
   "autocomplete": true,
   "bibliofile": "biblio.bib",
   "cite_by": "apalike",
   "current_citInitial": 1,
   "eqLabelWithNumbers": true,
   "eqNumInitial": 1,
   "hotkeys": {
    "equation": "Ctrl-E",
    "itemize": "Ctrl-I"
   },
   "labels_anchors": false,
   "latex_user_defs": false,
   "report_style_numbering": false,
   "user_envs_cfg": false
  },
  "toc": {
   "base_numbering": 1,
   "nav_menu": {},
   "number_sections": true,
   "sideBar": true,
   "skip_h1_title": false,
   "title_cell": "Table of Contents",
   "title_sidebar": "Contents",
   "toc_cell": false,
   "toc_position": {},
   "toc_section_display": true,
   "toc_window_display": false
  }
 },
 "nbformat": 4,
 "nbformat_minor": 2
}
