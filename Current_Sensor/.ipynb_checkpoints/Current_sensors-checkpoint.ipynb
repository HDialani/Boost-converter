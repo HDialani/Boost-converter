{
 "cells": [
  {
   "cell_type": "markdown",
   "metadata": {},
   "source": [
    "# Read me"
   ]
  },
  {
   "cell_type": "markdown",
   "metadata": {},
   "source": [
    "Pro's and cons of all the possible current sensor option in power electronics. The options are Resistor Shunt, Rogowski coil, Current Transformer and Closed Loop Hall Effect.\n",
    "$ \\def\\euro{\\unicode{x20AC}} $\n",
    "$ \\def\\yen{\\unicode{x00A5}}  $\n",
    "$ \\def\\pound{\\unicode{x00A3}} $\n",
    "$ \\def\\dollar{\\unicode{x024}} $"
   ]
  },
  {
   "cell_type": "markdown",
   "metadata": {},
   "source": [
    "#  $I_{transistor}$ measurement "
   ]
  },
  {
   "cell_type": "markdown",
   "metadata": {},
   "source": [
    "For this measurement I used the [custom current sensor PCB V1](https://github.com/HDialani/Boost-converter/tree/main/PCB_Design/Current_sensor_PCB)."
   ]
  },
  {
   "cell_type": "markdown",
   "metadata": {},
   "source": [
    "## Shunt measurement\n",
    "For resistor shunt it is quite straightforward you measure it's voltage and you know its resistance so using $I=\\frac{V}{R}$ you can know the measured current. For this setup the OAR3 - R020FI was used here is it's [datasheet](https://www.ttelectronics.com/TTElectronics/media/ProductFiles/Datasheets/OAR.pdf) "
   ]
  },
  {
   "cell_type": "markdown",
   "metadata": {},
   "source": [
    "### IGBT Measurement\n",
    "Okay lets measure and see what we get. Below the voltage measured over the shunt.\n",
    "\n",
    "<img src=\"Images/I_sw_IGBT_Shunt_Full_Bandwidth.png\" width=500>\n",
    "\n",
    "So... not really what what was expected it is extremely noisy. But why? The answer is inductance. The shunt's inductance is causing voltage overshoots. Everytime there is a sudden change in current the shunt's inductance causes a voltage overshoot. Thankfully there is a way of removing this large overshoots and that is to filter out the high frequencies. The image below shows the results where the scops was set to $500 kHz$ bandwidth.\n",
    "\n",
    "<img src=\"Images/I_sw_IGBT_Shunt_500kHz_Bandwidth.png\" width=500>"
   ]
  },
  {
   "cell_type": "markdown",
   "metadata": {},
   "source": [
    "Look at the spice model in the folder [LTspice].\n",
    "\n",
    "There you will see the schematic shown below. \n",
    "\n",
    "<img src=\"Images/I_sw_IGBT_Shunt_LTspice_schematic.png\" width=500>\n",
    "\n",
    "Here the parasitic inductance is added. In the datasheet they specify that the parasitic inductance is $<10n H$. The figure below shows the result of the simulation.\n",
    "\n",
    "\n",
    "<img src=\"Images/I_sw_IGBT_Shunt_LTspice_IGBT_V_Shunt_LTspice_plot.png\" width=500>\n",
    "<img src=\"Images/I_sw_IGBT_Shunt_LTspice_IGBT_I_source_LTspice_plot.png\" width=500>\n",
    "\n",
    "It isn't as extreme as the one shown in the measurement, but due keep in mind I neglected the parasitic inductance of the traces. Plus I simulated an ideal current source, while the current going through the shunt will not be an ideal current source. But this model gives a good enough explanation. "
   ]
  },
  {
   "cell_type": "markdown",
   "metadata": {},
   "source": [
    "### MOSFET Measurement"
   ]
  },
  {
   "cell_type": "markdown",
   "metadata": {},
   "source": [
    "<img src=\"Images/I_sw_MOSFET_Shunt_Full_Bandwidth.png\" width=500>\n",
    "\n",
    "So it is extremely noisy, but the wave form looks completely different. This is also not an incorrect measurement as can be seen from the image below where the shunt's bandwidths is decreased to $500 kHz$ and is compared to the current probe.\n",
    "\n",
    "<img src=\"Images/I_sw_MOSFET_Shunt_500kHz.png\" width=500>"
   ]
  },
  {
   "cell_type": "markdown",
   "metadata": {},
   "source": [
    "So I have an idea as to what caused this abnormality. The thing due to the high frequency and the parasitic inductance. Due to this higher switching frequency the voltage measurement jumps when the current changes shape. Keep in mind with the shunt the voltage is measured not the current. So the voltage overshoots and then decays due to the inductance. It just happens to resembles $I_{diode}$. That actually can help prove this hypothesis I should measure $I_{diode}$ for the MOSFET using the shunt and see of it also has this same shape "
   ]
  },
  {
   "cell_type": "markdown",
   "metadata": {},
   "source": [
    "## Shunt Pro's and Con's\n",
    "\n",
    "Pro's\n",
    "* It costs $0.33 \\euro$. At the time of April 2022 ,but it may be out of stock due to electronics shortage or increased in cost due to inflation 😥. \n",
    "* Can measure AC and DC current\n",
    "\n",
    "Con's\n",
    "* Needs to be directly in the desired current signals path.\n",
    "* Not isolated\n",
    "* It needs filtering due to the noise"
   ]
  },
  {
   "cell_type": "markdown",
   "metadata": {},
   "source": [
    "##  Rogowski coil measurement"
   ]
  },
  {
   "cell_type": "markdown",
   "metadata": {},
   "source": [
    "## Current Transformer "
   ]
  },
  {
   "cell_type": "markdown",
   "metadata": {},
   "source": [
    "For the current transformer I used the CASR 6-NP here is its [datasheet](https://www.lem.com/sites/default/files/products_datasheets/casr_series.pdf)"
   ]
  },
  {
   "cell_type": "markdown",
   "metadata": {},
   "source": [
    "So to understand how this specific transducer works I will show the following images. The image on the left is when $V_{DS}=0V$, so there is no current. The image on the right is when $V_{DS}=45 V$ so current is produced. \n",
    "\n",
    "<p float=\"left\">\n",
    "  <img src=\"Images/I_sw_IGBT_Transducer_no_VDS.png\" width=400>\n",
    "  <img src=\"Images/I_sw_IGBT_Transducer_with_VDS.png\" width=400>\n",
    "</p>\n",
    "\n"
   ]
  },
  {
   "cell_type": "markdown",
   "metadata": {},
   "source": [
    "## Closed Loop Hall Effect."
   ]
  },
  {
   "cell_type": "markdown",
   "metadata": {},
   "source": [
    "For the closed loop hall effect method I used the Keysight N2782B. Here is its [datasheet](https://www.farnell.com/datasheets/2702195.pdf)"
   ]
  },
  {
   "cell_type": "markdown",
   "metadata": {},
   "source": [
    "### IGBT Measurement\n",
    "\n",
    "Okay lets measure and see what we get. Below the voltage measured over the shunt.\n",
    "\n",
    "<img src=\"Images/I_sw_IGBT_Probe_Full_Bandwidth.png\" width=500>\n",
    "\n",
    "This looks a lot more like the expected current waveforms. As explained in [Switching_behavior](https://github.com/HDialani/Boost-converter/tree/main/Switching_behavior) the spikes are due to the trace inductance. But for a fair comparison this spike can be removed by filtering the signal. In this case the bandwidth on the scope was limited to   $2 MHz$. The result is show in the figure below\n",
    "\n",
    "<img src=\"Images/I_sw_IGBT_Probe_2MHz_Bandwidth.png\" width=500>"
   ]
  },
  {
   "cell_type": "markdown",
   "metadata": {},
   "source": [
    "## Closed Loop Hall Effect\n",
    "\n",
    "Pro's\n",
    "* Can pretty accurately measure the desired current signal\n",
    "* Doesn't need any mathematical modication to know what current\n",
    "* Doesn't need to be designed in the PCB\n",
    "* Can measure AC and DC current\n",
    "* Isolated\n",
    "\n",
    "Con's\n",
    "* Need a special power jack in order to measure any current\n",
    "* For low current measurement it needs to be probably calibrated else measurement can be wrong\n",
    "* Is extremely expensive this one cost over € 3.000,00"
   ]
  },
  {
   "cell_type": "markdown",
   "metadata": {},
   "source": [
    "## Comparison of all chosen methods"
   ]
  },
  {
   "cell_type": "markdown",
   "metadata": {},
   "source": [
    "### IGBT Measurement\n",
    "\n",
    "Below show the 3 possible methods. <font color='pink'>Hall sensor</font>,<font color='light blue'>Shunt</font> and,<font color='red'>Transducer</font>\n",
    "\n",
    "<img src=\"Images/I_sw_IGBT_Comparison.png\" width=500><br>"
   ]
  },
  {
   "cell_type": "markdown",
   "metadata": {},
   "source": [
    "Below shows the sensitivity and max allowable measurable current for each method. "
   ]
  },
  {
   "cell_type": "markdown",
   "metadata": {},
   "source": [
    "Method            | Model            |Sensitivity| Max current   | \n",
    "---               | ---              | ---       |---            | \n",
    "Shunt             | OAR3-R020FI      | $0.02 \\frac{V}{A}$(Resistance) | $\\sqrt{\\frac{P_{max}}{R}}=\\frac{3}{0.02}=12.3 A$ | \n",
    "Current tranducer | CASR 6-NP        |  | $20\\cdot I_{PN,RMS}=20*6=120 A_{RMS}$ | \n",
    "Rogowski coil     |   |    |               | \n",
    "Hall sensor       |  Keysight N2782B                |           |               |   "
   ]
  },
  {
   "cell_type": "code",
   "execution_count": null,
   "metadata": {},
   "outputs": [],
   "source": []
  }
 ],
 "metadata": {
  "kernelspec": {
   "display_name": "Python 3",
   "language": "python",
   "name": "python3"
  },
  "language_info": {
   "codemirror_mode": {
    "name": "ipython",
    "version": 3
   },
   "file_extension": ".py",
   "mimetype": "text/x-python",
   "name": "python",
   "nbconvert_exporter": "python",
   "pygments_lexer": "ipython3",
   "version": "3.7.4"
  },
  "latex_envs": {
   "LaTeX_envs_menu_present": true,
   "autoclose": false,
   "autocomplete": true,
   "bibliofile": "biblio.bib",
   "cite_by": "apalike",
   "current_citInitial": 1,
   "eqLabelWithNumbers": true,
   "eqNumInitial": 1,
   "hotkeys": {
    "equation": "Ctrl-E",
    "itemize": "Ctrl-I"
   },
   "labels_anchors": false,
   "latex_user_defs": false,
   "report_style_numbering": false,
   "user_envs_cfg": false
  },
  "toc": {
   "base_numbering": 1,
   "nav_menu": {},
   "number_sections": true,
   "sideBar": true,
   "skip_h1_title": false,
   "title_cell": "Table of Contents",
   "title_sidebar": "Contents",
   "toc_cell": false,
   "toc_position": {},
   "toc_section_display": true,
   "toc_window_display": false
  }
 },
 "nbformat": 4,
 "nbformat_minor": 2
}
