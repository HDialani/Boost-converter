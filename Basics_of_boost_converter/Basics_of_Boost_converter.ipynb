{
 "cells": [
  {
   "cell_type": "markdown",
   "metadata": {},
   "source": [
    "# Readme\n",
    "\n",
    "This is a simplified explanation of what a boost converter is for people without a bachelor of Electrical Engineering knowledge. What a Boost converter does is it boost up the input voltage while boost down the input current, since power in= power out. It does this by controlling the electronic switch(S). "
   ]
  },
  {
   "cell_type": "markdown",
   "metadata": {},
   "source": [
    "# How it works\n",
    "\n",
    "When the switch is closed a large current _I_ flows through the inductor(L) and switch(S) causing the inductor to start storing magnetic field $\\frac{1}{2}LI^{2}$     . The moment that the switch opens the current flowing through the inductor will decrease since a load is now limiting the current. This change doesn't happen instantaneously due to the fact that the inductor has some \"current delay\". As the current decreases the stored magnetic field will collapse, this causes the stored magnetic field energy to be released. Now that the inductor is releasing energy it can be seen as an additional voltage source in series to the input voltage source. So during the period that the switch is open both the input voltage source and the collapsed voltage produced by the inductor goes to the output an the collapsed voltage is larger than the input voltage. These voltages are then stored at the capacitor(C).  \n",
    "\n",
    "When the switch is open the voltage at the output is equal to the voltage over the capacitor, when the switch is closed the capacitor slowly discharges since it has a \"voltage delay\". This causes the voltage at the output to slowly decrease until the switch is open again. The switch is opening and closing at super fast rate>100 kHz so the sudden switching in output voltage is not noticed and instead the average voltage will be noticed at the output.\n",
    "\n",
    "Now for the final component the diode (D). The diode can be seen as a wire that allows current to flow in the direction of the arrow. When the switch is open the voltage over the cap is larger than the voltage of the input source, so the capacitor will try to discharge the current towards the input voltage. To stop this the diode make sure that current can't flow back into the input source and instead goes to the output.\n",
    "\n",
    "As for the output current, only when the switch is open current goes to the output, when the switch is closed it flows back into the battery. So the output current will be less than the input current."
   ]
  },
  {
   "cell_type": "markdown",
   "metadata": {},
   "source": [
    "# Schematic and operation of boost converter\n",
    "![](Images/Boost_converter_schematics.jpg)"
   ]
  },
  {
   "cell_type": "markdown",
   "metadata": {},
   "source": [
    "## continuous conduction mode (CCM),Boundary condition mode (BCM) and Discontinuous conduction mode (DCM)\n",
    "As mentioned before the current through the inductor will be rising when the switch is closed and discharging when the switch is open. If the current rises and discharges above $0 A$ it is in CCM. If it rises and discharges at $0 A$ it is in BCM. Current can't go below $0 A$ for the system so instead in the BCM it will first discharge to $0 A$ and stays $0 A$ until it starts rising again. "
   ]
  },
  {
   "cell_type": "markdown",
   "metadata": {},
   "source": [
    "## Operation mode of boost converter in CCM, BCM\n",
    "![](Images/Boost_converter.gif)<br />\n",
    "Websimulation link:\n",
    "http://www.falstad.com/circuit/circuitjs.html?ctz=CQAgjCAMB0l3BWK0BMLIHZNgBxgQGyQFYAsBICkll1CApgLRhgBQAZiOjuAJwpdCfAQGYBYaEhiQUrAErDwpUkpVhlUTaTqbqMBKwDugimAwUUQ9SsisANousnVmiNLC8MKFqTRYMOHAiPLYAJs5OYtROAqH07ACGAK52AC5GIFHOlhZCtsY52ULcUKwA5kW5Fl66rABOIMo8Tk3O0fAZrYVZhfmZ6C6tTrYA8o2kzRqkvKYabqwAblyQPIUlHgLU4vA0UsgGBSuVbazovP3RGj15yPCQELywVHB4ARgiBB+39+CnmI5zfggGaNEAANQAlgA7P4YcaTFStEEqMEAeyS6VR4AENkoYio4D00DcXGxmVYWJYoK2kAmOKJEEZrGCZIAYhA9mA4CBmCAACIYgCeAB0AM4AYUFAGM7PRWEA"
   ]
  },
  {
   "cell_type": "markdown",
   "metadata": {},
   "source": [
    "### On stage\n",
    "![](Images/Boost_converter_ON_mode.jpg)\n",
    "### Off stage\n",
    "![](Images/Boost_converter_OFF_mode.jpg)"
   ]
  },
  {
   "cell_type": "markdown",
   "metadata": {},
   "source": [
    "## Operation mode of boost converter in DCM\n",
    "![](Images/Boost_converter_DCM.gif)\n",
    "http://www.falstad.com/circuit/circuitjs.html?ctz=CQAgjCAMB0l3BWKsEA4wHYvoCwCZIBOVSVHEBSCiqhAUwFowwAoAMxANXEL04QBsPPgGY+YaEhiQ8LAErDwOcmGVLyVKjlpRdMBCwDu-IZiF5B6qCwA2i1eQum1m2KRA5ohSAMIjIgj4CYKgYAozckCwAJiZWYlQOnCDRdGwAhgCuNgAuRiAJcU5xUcbF5ZZc1gDmRZWVGHyaLABOHjjcScrcxYnw+d1xhb35hV0dVlEA8u2dajiEzirWAG6c7uXuYLy64vDUUsgGZRv15pZRBIQFBPG3vcjwcIQvr2-v1yFeGGB4IqiLTDoRqPSAQVgEDD2NTbPiLDwgABqAEsAHYsSGzKyDeHkREAe0yeXx4D4GgoYko4FcECo4lELBJzARdMgHT4txg4PAjIKLI8RChYFcjmSIgKLH+pJAADEIIdhVQmCAACJEgCeAB0AM4AYXVAGMbHQWEA\n",
    "### On stage\n",
    "![](Images/Boost_converter_ON_mode.jpg)\n",
    "### △1 stage\n",
    "![](Images/Boost_converter_OFF_mode.jpg)\n",
    "### Zero stage\n",
    "<img src=\"Images/Boost_converter_Zero_mode.jpg\" width=1800 >"
   ]
  },
  {
   "cell_type": "markdown",
   "metadata": {},
   "source": [
    "# Simple math and simulations explaining how it is possible that $V_{out}>V_{in}$"
   ]
  },
  {
   "cell_type": "markdown",
   "metadata": {},
   "source": [
    "# Mathematics for boost converter\n",
    "All graphs made in this section are made using the code found in [Code](Code)"
   ]
  },
  {
   "cell_type": "markdown",
   "metadata": {},
   "source": [
    "## CCM\n",
    "### Inductor\n",
    "General equation for inductor $I_L=\\frac{1}{L}\\int_{t_2}^{t_1} V_L \\,dt$  <br />\n",
    "When S is closed $V_L=V_{in}$    <br />\n",
    "When S is open $V_L=V_{in}-V_{out}$   <br />\n",
    "\n",
    "![](Images/CCM_Inductor_Plots.svg)"
   ]
  },
  {
   "cell_type": "markdown",
   "metadata": {},
   "source": [
    "### Transistor\n",
    "When S is closed $V_{S}=0$  and $I_{S}=I_L$ <br />\n",
    "When S is open $V_{S}=V_{out}$  and $I_{S}=0$\n",
    "\n",
    "![](Images/CCM_Transistor_Plots.svg)"
   ]
  },
  {
   "cell_type": "markdown",
   "metadata": {},
   "source": [
    "### Diode\n",
    "When S is closed $V_{D}=V_{out}$ and $I_{D}=0$ <br />\n",
    "When S is open $V_{D}=V_{forward-drop}$ and $I_{D}=I_L$ <br />\n",
    "\n",
    "![](Images/CCM_Diode_Plots.svg)"
   ]
  },
  {
   "cell_type": "markdown",
   "metadata": {},
   "source": [
    "### Capacitor\n",
    "When S is closed $V_C=V_{out}$ and $I_C=-I_{out}$ <br />\n",
    "When S is open $V_C=V_{out}$ and $I_C=I_{D}-I_{out}$ <br />\n",
    "\n",
    "![](Images/CCM_Capacitor_Plots.svg)\n"
   ]
  },
  {
   "cell_type": "markdown",
   "metadata": {},
   "source": [
    "## DCM"
   ]
  },
  {
   "cell_type": "markdown",
   "metadata": {},
   "source": [
    "# Generatal equations. \n",
    "\n",
    "## CCM-BCM\n",
    "![](Images/CCM-BCM-Equations.jpg)\n",
    "## DCM\n",
    "![](Images/DCM-Equations.jpg)"
   ]
  },
  {
   "cell_type": "markdown",
   "metadata": {},
   "source": [
    "# When can it enter DCM or CCM/BCM?\n",
    "\n",
    "There are only 4 parameters that can change the Boost operation mode: inductor value, load resistance, switching frequency and duty cycle. This part show how each of them can effect this."
   ]
  },
  {
   "cell_type": "markdown",
   "metadata": {},
   "source": [
    "## Load resistor\n",
    "Assuming everything else is the same increasing the load resistance can push the Boost converter to enter discontinuous mode. The relationship is that as load resistance increases the output current decreases, which means the average current of the inductor will decrease. The load resistance does not affect the ripple current, however, so if the average input current is less than the ripple current it will go to zero and stay zero till the inductor starts to charge again. The boundary condition is $I_{in}=\\frac{\\Delta I_L}{2}$ if $I_{in}=\\frac{\\Delta I_L}{2}>$ then it is CCM, the other way around is DCM.\n",
    "\n",
    "<p float=\"left\">\n",
    "  <img src=\"Images/CCM_DCM_R_Load_CCM_Mode.jpg\" width=400 > \n",
    "  <img src=\"Images/CCM_DCM_R_Load_DCM_Mode.jpg\" width=400 > \n",
    "</p>"
   ]
  },
  {
   "cell_type": "markdown",
   "metadata": {},
   "source": [
    "## Inductance \n",
    "For inductance you are manipulating $\\Delta I_L$, while keeping $I_{in}$ the same. \n",
    "This is due to the equation $\\Delta I_L=\\frac{V_{in}}{L}DT_{S}$\n",
    "Changing $L$ doesn't effect $I_{in}$. \n",
    "So this time increasing the inductance can result in the boost converter going from CCM to DCM mode and decreasing it can mode the converter from DCM to CCM mode.\n",
    "\n",
    "$L_{crit}=\\frac{ V_{in}^2DR}{2f_{sw}V_{out}^2}$ this [video](https://www.youtube.com/watch?v=YIg7J3YjnbM&list=PLmK1EnKxphinxBub5hL0ZoJXWoqjkGE19&index=33&t=3) shows the entire derivation if you are interested\n",
    "\n",
    "\n",
    "If $L>L_{crit}$ you are in CCM mode. <br />\n",
    "If $L< L_{crit}$ you are in DCM mode."
   ]
  },
  {
   "cell_type": "markdown",
   "metadata": {},
   "source": [
    "## Switching frequency\n"
   ]
  },
  {
   "cell_type": "markdown",
   "metadata": {},
   "source": [
    "## Duty cycle\n",
    "\n",
    "<p float=\"left\">\n",
    "  <img src=\"Images/CCM_DCM_K_crit_graph.jpg\" width=300 > \n",
    "  <img src=\"Images/CCM_DCM_operation_check.svg\" width=700 > \n",
    "</p>\n",
    " \n",
    "\n",
    "source left:https://ninova.itu.edu.tr/en/courses/institute-of-science-and-technology/132/elk-506e/ekkaynaklar?g45743 <br />\n",
    "source right me [Code](Code)\n",
    "\n",
    "Here $K_{crit}=D*(1-D)^2$ and $K=\\frac{2Lf_{sw}}{R}$"
   ]
  }
 ],
 "metadata": {
  "kernelspec": {
   "display_name": "Python 3",
   "language": "python",
   "name": "python3"
  },
  "language_info": {
   "codemirror_mode": {
    "name": "ipython",
    "version": 3
   },
   "file_extension": ".py",
   "mimetype": "text/x-python",
   "name": "python",
   "nbconvert_exporter": "python",
   "pygments_lexer": "ipython3",
   "version": "3.7.4"
  },
  "latex_envs": {
   "LaTeX_envs_menu_present": true,
   "autoclose": false,
   "autocomplete": true,
   "bibliofile": "biblio.bib",
   "cite_by": "apalike",
   "current_citInitial": 1,
   "eqLabelWithNumbers": true,
   "eqNumInitial": 1,
   "hotkeys": {
    "equation": "Ctrl-E",
    "itemize": "Ctrl-I"
   },
   "labels_anchors": false,
   "latex_user_defs": false,
   "report_style_numbering": false,
   "user_envs_cfg": false
  },
  "toc": {
   "base_numbering": 1,
   "nav_menu": {},
   "number_sections": true,
   "sideBar": true,
   "skip_h1_title": false,
   "title_cell": "Table of Contents",
   "title_sidebar": "Contents",
   "toc_cell": false,
   "toc_position": {},
   "toc_section_display": true,
   "toc_window_display": false
  }
 },
 "nbformat": 4,
 "nbformat_minor": 2
}
