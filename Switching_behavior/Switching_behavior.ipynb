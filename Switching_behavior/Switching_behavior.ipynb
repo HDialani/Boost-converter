{
 "cells": [
  {
   "cell_type": "markdown",
   "metadata": {},
   "source": [
    "# 1 Read me"
   ]
  },
  {
   "cell_type": "markdown",
   "metadata": {},
   "source": [
    "The micro-controller will sent PWM signal with the desired duty cycle to the gate drivers, which will then send the  desired square waves to the chosen transistor.\n",
    "\n",
    "<img src=\"Images/Switching_toplevel.jpg\" width=600 >\n",
    "\n",
    "The micro-controller will send a PWM signal from 0V-3V3 or 0V-5V depending on which micro-controller is used. As will be explained a bit later this  is not the desired signal for power transistors it is fine for normal low power transistors though. So for power transistors a gate driver circuit is needed. This signal will boost and PWM logic signal to the desired square waves."
   ]
  },
  {
   "cell_type": "markdown",
   "metadata": {},
   "source": [
    "# 2 Why is the gate driver needed?"
   ]
  },
  {
   "cell_type": "markdown",
   "metadata": {},
   "source": [
    "## 2.1 Parasitic capacitor\n",
    "In an ideal world, transistors would turn on instantly. However, in the real world, it takes some time till the transistor is switched from \"OFF\" to \"ON\". This is because there is a parasitic capacitance between the gate and source of the MOSFET. (This explanation uses MOSFET, but the same can be said about IGBT). This parasitic capacitance causes the transistor to turn on very slowly. Normally these switches take a few $ns$-$us$ so a little delay isn't that bad, however too big a problem comes from what happens in between going from turning \"OFF\" to \"ON\". Here \"ON\" means $V_{DS}$=$0V$. For those that don't know MOSFETs have 3 operating regions: cut-off region, resistive/linear region, and saturation region. Read this if you want to understand more [read this](http://electricalarticle.com/power-mosfet-construction-operation-iv-characteristic/) or [watch this](https://www.youtube.com/watch?v=o3M2sOCGCKs). Ps saturation and linear region are often mixed up with beginners. The reason is that for BJT both region's names are swapped 🙃 look at this [fun thread](https://electronics.stackexchange.com/questions/498561/in-which-region-should-a-mosfet-be-operated-as-a-switch). \n",
    "\n",
    "So now that you know all the 3 regions you can understand what the problem is when the switch turns \"ON\" very slowly. The switch will be in the saturation region for a long time. During the saturation region, current will flow through the MOSFET while there is still a voltage difference between drain and source, so there will be a lot of power lost over the transistor. The animation below shows this effect the MOSFET is first in cut-off then due to the parasitic capacitor it stays in saturation for a while then it finally enters the linear region. A problem with microcontrollers is that they can't give a lot of charges. They usually give between $4-20 mA$. So this will cause the capacitor to take forever to charge. For a power MOSFET, it will take ages since its parasitic cap is extremely large. So the gate driver steps in and delivers a large amount of current compared to the microcontroller thus charging the parasitic capacitor faster. Besides charging this capacitor the gate-driver also discharges this capacitor. Power MOSFETs have large parasitic caps, so even if you remove positive voltage the gate voltage can stay the same voltage for a while. So to quickly discharge the capacitor the gate driver supplies negative voltage to turn the transistor \"OFF\". "
   ]
  },
  {
   "cell_type": "markdown",
   "metadata": {},
   "source": [
    "<img src=\"Images/Gate_driver/Power_Loss_Resistive_Regen.gif \" width=500 >\n",
    "<br>\n",
    "<img src=\"Images/Gate_driver/Negative_gate_voltage.gif \" width=500 >\n",
    "<br>\n",
    "\n",
    "[Web simulation](http://www.falstad.com/circuit/circuitjs.html?ctz=CQAgjCAMB0l3BWcMBMcUHYMGZIA4UA2ATmIxAUgpABZsKBTAWjDACgAncMFEFGqmAyE+AqMjYAlbr36CefPHnFUxTJFU3QEbAMqiqKfuGF9jmkADMAhgBsAzg3EpOi5T2Uol4QhcqQ2AHcQbGwRTFlvCKgpGT58OI8VWioNFW1XVlkEoXCEwQCAYwMzGhLorUgIJhgyPBoEBoRCNEbIbGUAy3LjL09jbFkoWBdgvvKojF4AsbFo8Yq2AHM3PinV3DLNINW0T28wXxjpcaTx4hELMTStHTGohNC8zrY0cjlSksPVEABxawALgwAPoANwA9rYAdYlgw2OCQMpCFsUmRqDB4JAyIRmig0rxlNh4YiQMiQOQBKR0dAIIJhpjhChiNhiA1sDwdAiwEgyaoscoNDTwHxwEgiQikSjKeRBZjsbikENCcTJeTUcRqRBeLTYPBGczWQh2Xi2EA)\n"
   ]
  },
  {
   "cell_type": "markdown",
   "metadata": {},
   "source": [
    "## 2.2 Lower conduction losses"
   ]
  },
  {
   "cell_type": "markdown",
   "metadata": {},
   "source": [
    "Another reason why to use a gate driver is that it can boost the 3V3-5V voltage to higher voltage. The benefit becomes more clear when looking at a typical power MOSFET's I-V curve, The image below is from the SCTWA30N120. \n",
    "<br>\n",
    "<img src=\"Images/Gate_driver/Example_power_MOSFET_I_V_graph.jpg \" width=250 >\n",
    "\n",
    "The larger $V_{GS}$ is the larger the slope becomes. Since $R=V/I$ a larger slope results in a smaller resistance. Even though this resistance is already in the $m\\Omega$ range this play a huge role in conduction loss since $I$ is usually very large. Therefore it is more desirable to have the highest possible $V_{GS}$. With gate drivers, their output voltage is dependent on the voltages that are supplied to them. So for example the NCP81080 [datasheet](https://www.onsemi.com/pdf/datasheet/ncp81080-d.pdf) can supply $20V$ to turn the switch \"ON\" and supply $-5V$ \"OFF\". The max possible voltage is transistor dependents so check its datasheet to see the max possible voltage both positive and negative."
   ]
  },
  {
   "cell_type": "markdown",
   "metadata": {},
   "source": [
    "##  2.3 Isolation between HV and LV ground\n",
    "\n",
    "And finally another reason to use a gate driver is to make sure that the LV part of the PCB is safe from the HV part. ToDo.........."
   ]
  },
  {
   "cell_type": "markdown",
   "metadata": {},
   "source": [
    "# 3 Simple inverter circuit\n",
    "I will first build a simple inverted circuit and then see what happens.\n",
    "\n",
    "<img src=\"Images/Inverter/Ideal_inverter_circuit_diagram.jpg  \" width=300 >"
   ]
  },
  {
   "cell_type": "markdown",
   "metadata": {},
   "source": [
    "##  3.1 Ideal case simulation results\n",
    "\n",
    "<img src=\"Images/Inverter/Theoretical_inverting_circuit.gif \" width=300 >\n",
    "\n",
    "[Web simulation](http://www.falstad.com/circuit/circuitjs.html?ctz=CQAgjCAMB0l3BWcMBMcUHYMGZIA4UA2ATmIxAUgpABZsKBTAWjDACg1ywU8QUUa4HuAyFaIAGoATAM4dI5KgKpUwxFOIkBzOQHcQxMSgRjDIXIMht9ZiyDxU7V-Y8iCH5t1GtQ+NKjS8yt4Abr5Ofip8fEpUTEgq0Ag+ZvyC3EEC3gBKBmJgonngNJa+-hRRickATkVpRQViqvBsWkV2tmi+VgBmtEHlqeXYGmBJULAobAD24CCEpf7EvB4w8JBkhCbGZXP0leZsQA)"
   ]
  },
  {
   "cell_type": "markdown",
   "metadata": {},
   "source": [
    "## 3.2 Measurement"
   ]
  },
  {
   "cell_type": "markdown",
   "metadata": {},
   "source": [
    "Materials\n",
    "* Power supply\n",
    "* Gate driving circuit driven by a pre-programmed micro-controller\n",
    "* Oscilloscope\n",
    "* Current limiting resistor\n",
    "* Wires\n",
    "* Transistor"
   ]
  },
  {
   "cell_type": "markdown",
   "metadata": {},
   "source": [
    "The setup is shown below\n",
    "\n",
    "<img src=\"Images/Inverter/Inverter_Circuit_MOSFET.jpeg \" width=400 >"
   ]
  },
  {
   "cell_type": "markdown",
   "metadata": {},
   "source": [
    "**MOSFET version**\n",
    "\n",
    "* Power supply voltage= $45V$\n",
    "* Gate driver IC = ACPL-344JT\n",
    "* Gate driver IC supply voltage +12/-5V\n",
    "* Gate resistance= $8.2\\Omega$( Will explain this function later)\n",
    "* Current limiting resistor value $22\\Omega$\n",
    "* SiC MOSFET =c3m0075120k\n",
    "* Duty cycle 70%\n",
    "* Switching frequency $80 kHz$ \n",
    "\n",
    "**IGBT version**\n",
    "\n",
    "* Power supply voltage= $45V$\n",
    "* Gate driver IC = ACPL-344JT\n",
    "* Gate driver IC supply voltage +12/-5V\n",
    "* Gate resistance= $8.2\\Omega$( Will explain this function later)\n",
    "* Current limiting resistor value $22\\Omega$\n",
    "* SiC MOSFET =c3m0075120k\n",
    "* Duty cycle 85%\n",
    "* Switching frequency $15 kHz$ "
   ]
  },
  {
   "cell_type": "markdown",
   "metadata": {},
   "source": [
    "### 3.2.1 MOSFET Only $V_{GS}$ \n",
    " So pretty much as expected. \n",
    " \n",
    "<img src=\"Images/Inverter/Inverter_Circuit_MOSFET_Rgate=8.2_Only_Vgs_Zoomed_Out.png  \" width=500 >\n",
    "\n",
    "Now lets zoom in a bit. Left is the rise voltage and right is the fall voltage.\n",
    "\n",
    "<p float=\"left\">\n",
    "  <img src=\"Images/Inverter/Inverter_Circuit_MOSFET_Rgate=8.2_Only_Vgs_Rise_Zoomed_In.png\" width=500 > \n",
    "  <img src=\"Images/Inverter/Inverter_Circuit_MOSFET_Rgate=8.2_Only_Vgs_Fall_Zoomed_In.png\" width=500 > \n",
    "</p>"
   ]
  },
  {
   "cell_type": "markdown",
   "metadata": {},
   "source": [
    "So it is physically impossible to go from $-5V$ to $12.5V$ or vise versa instantaneously, as mentioned above there are parasitic capacitors and there is a gate resistor present. So while the capacitor is charging the voltage should look like a typical [RC charge circuit](https://www.electronics-tutorials.ws/rc/rc_1.html). And while it is discharging it should look like a typical  [RC discharging circuit](https://www.electronics-tutorials.ws/rc/rc_2.html). But in reality Miller platue stops the voltage for a time period as can be seen during fall. Some resources regarding Miller Plateau read [1](https://inst.eecs.berkeley.edu/~ee192/sp17/files/MOSFET_as_switch.pdf) and [2](https://electronics.stackexchange.com/questions/66660/why-is-the-gate-charge-curve-miller-plateau-of-mosfets-dependent-on-vds) or watch [3](https://www.youtube.com/watch?v=f1yt0s3gpcE)  "
   ]
  },
  {
   "cell_type": "markdown",
   "metadata": {},
   "source": [
    "```diff\n",
    "  Why no Miller plateau during rise?\n",
    "```"
   ]
  },
  {
   "cell_type": "markdown",
   "metadata": {},
   "source": [
    "###  3.2.2 IGBT Only $V_{BE}$ \n",
    " So pretty much as expected.\n",
    "    \n",
    "<img src=\"Images/Inverter/Inverter_Circuit_IGBT_Rgate=8.2_Only_Vgs_Zoomed_Out.png  \" width=500 >\n",
    "\n",
    "Zooming in shows the effect of Miller plateau again.\n",
    "<p float=\"left\">\n",
    "  <img src=\"Images/Inverter/Inverter_Circuit_IGBT_Rgate=8.2_Only_Vgs_Rise_Zoomed_In.png\" width=500 > \n",
    "  <img src=\"Images/Inverter/Inverter_Circuit_IGBT_Rgate=8.2_Only_Vgs_Fall_Zoomed_In.png\" width=500 > \n",
    "</p>"
   ]
  },
  {
   "cell_type": "markdown",
   "metadata": {},
   "source": [
    "### 3.2.3 MOSFET $V_{GS}$, $V_{DS}$ and $I_{R}$  \n",
    "Something seems wrong during the step response of $V_{DS}$? \n",
    "\n",
    "<img src=\"Images/Inverter/Inverter_Circuit_MOSFET_Rgate=8.2_No_diode_Zoomed_out.png\" width=500 >"
   ]
  },
  {
   "cell_type": "markdown",
   "metadata": {},
   "source": [
    "Zooming in\n",
    "<p float=\"left\">\n",
    "  <img src=\"Images/Inverter/Inverter_Circuit_MOSFET_Rgate=8.2_No_diode__Rise_Zoomed_in.png\" width=500 > \n",
    "  <img src=\"Images/Inverter/Inverter_Circuit_MOSFET_Rgate=8.2_No_diode__Fall_Zoomed_in.png\" width=500 > \n",
    "</p>"
   ]
  },
  {
   "cell_type": "markdown",
   "metadata": {},
   "source": [
    "Why is $V_{DS}$ overshooting? and oscillating a lot? The answer parasitic inductance and capacitance 🙃. Above used in ideal inverter circuit, but in the real world there are parasitics and they become more noticeable at higher frequencies. Below shows the inverter circuit with its parasitics. The wire and resistor has some parasitic inductance and the transistor has some parasitic capacitance."
   ]
  },
  {
   "cell_type": "markdown",
   "metadata": {},
   "source": [
    "<img src=\"Images/Inverter/Inverter_circuit_diagram_with_parasitics.jpg\" width=500 >"
   ]
  },
  {
   "cell_type": "markdown",
   "metadata": {},
   "source": [
    "#### 3.2.3.1 Can we simulate this overshoot and oscillation?\n",
    "Yes, but the question is now how accurate and how much work you want to spend on it. For example look at the I could make a Pyhton script like I did for the RLC step response model. But that if for a very simply model without parasitics plus that was only a step response not even a square wave response. It is not worth it to derive a mathematical model with parasitics and add a MOSFET/IGBT in this model when a simpler solution exists. The solution is to plot these in LTSpice. For example look at the RLC circuit below. Here all you need to do is add the square wave input setup your RLC circuit with the correct values and plot. No mathematical model needed. So for the more complicated model I will use LTspice to plot them"
   ]
  },
  {
   "cell_type": "markdown",
   "metadata": {},
   "source": [
    "#### 3.2.3.2 RLC circuit in LTSPice for MOSFET model\n",
    "\n",
    "<img src=\"Images/LTSpice/LTSpice_RLC_plot.png\" width=700 >\n",
    "<img src=\"Images/LTSpice/LTSpice_RLC_schematics.jpg\" width=400 >"
   ]
  },
  {
   "cell_type": "markdown",
   "metadata": {},
   "source": [
    "#### 3.2.3.3 MOSFET inverter circuit with parasitics\n",
    "\n",
    "The first step when plotting a circuit is to place everything you need in the right configuration with the right values/components. The next step it to add the parasitic components in your model. The wires, resistor and MOSFET have parasitic components present. For the wire and resistor I added some parasitics and gave them an estimated values, these values aren't the actual parasitic values and are not perfectly tuned. I chose values that gave almost the same simulated effect as the actual one. For the MOSFET I just took the manufacturers already made spice model. The LTSpice model is shown below."
   ]
  },
  {
   "cell_type": "markdown",
   "metadata": {},
   "source": [
    "<img src=\"Images/LTSpice/LTSpice_inverter_plot_no_diode_parasitics.png\" width=700 >\n",
    "<img src=\"Images/LTSpice/LTSpice_inverter_schematic_no_diode_parasitics.png\" width=500 >"
   ]
  },
  {
   "cell_type": "markdown",
   "metadata": {},
   "source": [
    "#### 3.2.3.4 How to fix this overshoot and oscillation?\n",
    "\n",
    "* Increase the resistance, the max I can go to is $68\\Omega$ when I reduce the test it slightly improved the results.\n",
    "* Decrease wire distance from the resistor, this doesn't help since most of the parasitic inductance is in the resistor itself(Look at image).\n",
    "* Lower switching frequency, this does come at the cost of increasing the inductor and capacitors sizes in this circuit and possible increasing losses in the circuit\n",
    "* Add an anti-parallel diode, this removed the stored inductive energy when the switch in \"OFF\". This doesn't help efficiency, but requires no redesign, is easy to implement and does remove the overshoot and most of the oscillation. So I am going with this option."
   ]
  },
  {
   "cell_type": "markdown",
   "metadata": {},
   "source": [
    "Look at the image below for how I implemented it \n",
    "\n",
    "<img src=\"Images/LTSpice/LTSpice_inverter_plot_with_diode_parasitics.png\" width=700 >\n",
    "<img src=\"Images/LTSpice/LTSpice_inverter_schematic_with_diode_parasitics.png\" width=500 >"
   ]
  },
  {
   "cell_type": "markdown",
   "metadata": {},
   "source": [
    "### 3,2,4 IGBT $V_{BE}$, $V_{CE}$ and $I_{R}$ no anti-parallel diode\n",
    "\n",
    "<img src=\"Images/Inverter/Inverter_Circuit_IGBT_Rgate=8.2_No_diode_Zoomed_out.png\" width=500 >"
   ]
  },
  {
   "cell_type": "markdown",
   "metadata": {},
   "source": [
    "# 4 Boost converter circuit"
   ]
  },
  {
   "cell_type": "markdown",
   "metadata": {},
   "source": [
    "#### Gate resistor $30\\Omega$\n",
    "A few cycles of $V_{DS}$<br>\n",
    "<img src=\"Images/Boost/BOOST_MOSFET_CCM_Rgate=30_Ohm_VDS_Only_Full.png\" width=500 >\n",
    "\n",
    "Now lets zoom in a bit. Left is the rise voltage and right is the fall voltage of $V_{GS}$.\n",
    "\n",
    "<p float=\"left\">\n",
    "  <img src=\"Images/Boost/BOOST_MOSFET_CCM_Rgate=30_Ohm_VGS_Rise.png\" width=500 > \n",
    "  <img src=\"Images/Boost/BOOST_MOSFET_CCM_Rgate=30_Ohm_VGS_Fall.png\" width=500 > \n",
    "</p>\n",
    "\n",
    "Now to see how much energy is lost during turn on an turn off.\n",
    "```diff\n",
    "  TO DO\n",
    "```"
   ]
  },
  {
   "cell_type": "markdown",
   "metadata": {},
   "source": [
    "### IGBT"
   ]
  },
  {
   "cell_type": "markdown",
   "metadata": {},
   "source": [
    "## Snubber"
   ]
  },
  {
   "cell_type": "markdown",
   "metadata": {},
   "source": [
    "### MOSFET\n",
    "### IGBT"
   ]
  },
  {
   "cell_type": "markdown",
   "metadata": {},
   "source": [
    "## Smaller probe inductance"
   ]
  },
  {
   "cell_type": "markdown",
   "metadata": {},
   "source": [
    "### MOSFET\n",
    "### IGBT"
   ]
  },
  {
   "cell_type": "markdown",
   "metadata": {},
   "source": [
    "## Different diodes \n",
    "Which would u pick for the boost converter?\n",
    "\n",
    "1) apt30dq120bctg (A)<br>\n",
    "2) e4d20120d (E)<br>\n",
    "3) VS-C5TH3012-M3 (C)"
   ]
  },
  {
   "cell_type": "markdown",
   "metadata": {},
   "source": [
    "### MOSFET\n",
    "### IGBT"
   ]
  },
  {
   "cell_type": "markdown",
   "metadata": {},
   "source": [
    "## CCM vs DCM "
   ]
  },
  {
   "cell_type": "markdown",
   "metadata": {},
   "source": [
    "### MOSFET\n",
    "### IGBT"
   ]
  }
 ],
 "metadata": {
  "kernelspec": {
   "display_name": "Python 3",
   "language": "python",
   "name": "python3"
  },
  "language_info": {
   "codemirror_mode": {
    "name": "ipython",
    "version": 3
   },
   "file_extension": ".py",
   "mimetype": "text/x-python",
   "name": "python",
   "nbconvert_exporter": "python",
   "pygments_lexer": "ipython3",
   "version": "3.7.4"
  },
  "latex_envs": {
   "LaTeX_envs_menu_present": true,
   "autoclose": false,
   "autocomplete": true,
   "bibliofile": "biblio.bib",
   "cite_by": "apalike",
   "current_citInitial": 1,
   "eqLabelWithNumbers": true,
   "eqNumInitial": 1,
   "hotkeys": {
    "equation": "Ctrl-E",
    "itemize": "Ctrl-I"
   },
   "labels_anchors": false,
   "latex_user_defs": false,
   "report_style_numbering": false,
   "user_envs_cfg": false
  },
  "toc": {
   "base_numbering": 1,
   "nav_menu": {},
   "number_sections": true,
   "sideBar": true,
   "skip_h1_title": false,
   "title_cell": "Table of Contents",
   "title_sidebar": "Contents",
   "toc_cell": false,
   "toc_position": {},
   "toc_section_display": true,
   "toc_window_display": false
  }
 },
 "nbformat": 4,
 "nbformat_minor": 2
}
