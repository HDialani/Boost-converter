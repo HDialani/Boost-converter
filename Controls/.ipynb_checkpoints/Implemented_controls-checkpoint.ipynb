{
 "cells": [
  {
   "cell_type": "markdown",
   "metadata": {},
   "source": [
    "# 1 Read me\n",
    "\n",
    "Here I am going to show the code I made for the control system and also the steps I took in getting the result. For the micro-controller I had the [LAUNCHXL-F28027F](https://www.ti.com/tool/LAUNCHXL-F28027F?ds_k=LAUNCHXL-F28027F&DCM=yes&gclsrc=ds&gclsrc=ds). The boost converter was already made and was not designed for optimal closed-loop implementation, but more on that later.  "
   ]
  },
  {
   "cell_type": "markdown",
   "metadata": {},
   "source": [
    "# 2 Method of implementing controls\n",
    "\n",
    "I have 2 options if I want to implement the control program. Option 1 I design the entire thing in Simulink and then use the built in Embedded Coder Simulink submodel and then let it do all the data conversion. This way I only need to use Simulink and then press built hardware and I am done. The second option is I make the entire code in C using the free Code Composer Studio program from Texas Instruments.\n",
    "\n",
    "My C/C++ skill is very little, plus it can become really easy to be lost when designing and more importantly debugging problems if I decide to use this option. Simulink is a lot more user friendly, easier to follow and debug, but it isn't free sadly. In practice controls engineers do complicated controls using Simulink/Matlab, thanks to my university I also get both for free so I decided to do everything in Matlab/Simulink. Maybe later I can try and do this is C/C++, but I can't promise this."
   ]
  },
  {
   "cell_type": "markdown",
   "metadata": {},
   "source": [
    "# 3 Simulated model"
   ]
  },
  {
   "cell_type": "markdown",
   "metadata": {},
   "source": [
    "The first step before implementing any control algorithm is to first make a simulation model of the thing u want to control. Since I am going to implement everything in Simulink/Matlab I decided to make a Simulink/Matlab simulation model. Below is a reminder of how the Boost converter looks like\n",
    "\n",
    "<img src=\"Images/Boost_circuit_with_input_cap.png\" width=500> \n",
    "\n",
    "In my special case I have full control over the input voltage, so I decided to use $45 V$, because that was the one the university used and I couldn't find any reason to change that. I could  keep swap all passive components to get the new desired output values, but that is a pretty dumb idea for obvious reasons. In this case I have control over the load, but in practice this is not always the case. So what can I control? There is only one thing left the transistors gate signal. I can control how fast it turn ON/OFF and how long it does that. And that is what I will use"
   ]
  },
  {
   "cell_type": "markdown",
   "metadata": {},
   "source": [
    "## Open loop model"
   ]
  },
  {
   "cell_type": "markdown",
   "metadata": {},
   "source": [
    "I am going to start with open loop control simulation model. Purely because it is the easiest to implement. \n",
    "\n",
    "<img src=\"Images/General_open_loop_control.png\" width=500> \n",
    "[Source](https://www.electronicshub.org/open-loop-system/)\n",
    "\n",
    "In my case the input signal is the switching frequency and duty cycle and the process output is the output voltage of the boost converter."
   ]
  },
  {
   "cell_type": "markdown",
   "metadata": {},
   "source": [
    "The model i made is shown below. It can be found in [Fake_Boost]{Fake_Boost}"
   ]
  },
  {
   "cell_type": "code",
   "execution_count": null,
   "metadata": {},
   "outputs": [],
   "source": []
  }
 ],
 "metadata": {
  "kernelspec": {
   "display_name": "Python 3",
   "language": "python",
   "name": "python3"
  },
  "language_info": {
   "codemirror_mode": {
    "name": "ipython",
    "version": 3
   },
   "file_extension": ".py",
   "mimetype": "text/x-python",
   "name": "python",
   "nbconvert_exporter": "python",
   "pygments_lexer": "ipython3",
   "version": "3.7.4"
  },
  "latex_envs": {
   "LaTeX_envs_menu_present": true,
   "autoclose": false,
   "autocomplete": true,
   "bibliofile": "biblio.bib",
   "cite_by": "apalike",
   "current_citInitial": 1,
   "eqLabelWithNumbers": true,
   "eqNumInitial": 1,
   "hotkeys": {
    "equation": "Ctrl-E",
    "itemize": "Ctrl-I"
   },
   "labels_anchors": false,
   "latex_user_defs": false,
   "report_style_numbering": false,
   "user_envs_cfg": false
  },
  "toc": {
   "base_numbering": 1,
   "nav_menu": {},
   "number_sections": true,
   "sideBar": true,
   "skip_h1_title": false,
   "title_cell": "Table of Contents",
   "title_sidebar": "Contents",
   "toc_cell": false,
   "toc_position": {},
   "toc_section_display": true,
   "toc_window_display": false
  }
 },
 "nbformat": 4,
 "nbformat_minor": 2
}
