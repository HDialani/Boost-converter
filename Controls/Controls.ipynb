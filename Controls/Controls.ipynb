{
 "cells": [
  {
   "cell_type": "markdown",
   "metadata": {},
   "source": [
    "# Readme"
   ]
  },
  {
   "cell_type": "markdown",
   "metadata": {},
   "source": [
    "The magic of controls engineering"
   ]
  },
  {
   "cell_type": "markdown",
   "metadata": {},
   "source": [
    "# Series RLC Step responce\n",
    "Here you can see how R,L and C can effect a step responce. \n",
    "\n",
    "<img src=\"Images/RLC_circuit_diagram.jpg\" width=500 >"
   ]
  },
  {
   "cell_type": "markdown",
   "metadata": {},
   "source": [
    "## Differential equation\n",
    "$v_{in}(t)-v_{R}(t)-v_{L}(t)-v_{C}(t)=0$ (KVL)  \n",
    "$v_{R}(t)=R i(t)$  \n",
    "$v_{L}(t)=L \\frac{d i}{d t}$  \n",
    "$i(t)=C \\frac{d v_{C}}{d t}$ "
   ]
  },
  {
   "cell_type": "markdown",
   "metadata": {},
   "source": [
    "## Transfer Function\n",
    "First rewrite it in Laplace \n",
    "$V(s)-V_{R}(s)-V_{L}(s)-V_{C}(s)=0$ \n",
    "$\\frac{d}{d t}=s$ \n",
    "$V_{R}(s)=R I(s)  $ \n",
    "$V_{L}(s)=L s I(s)$ \n",
    "$I(s)=C s V_{C}(s)$"
   ]
  },
  {
   "cell_type": "markdown",
   "metadata": {},
   "source": [
    "Rewritting everything gives $\\frac{V_{C}(s)}{V(s)}=\\frac{1}{R C s+L C s^{2}+1}$, since $V_{C}=V_{in}$ it becomes $H(s)=\\frac{1}{R C s+L C s^{2}+1}$\n",
    "\n",
    "Example \n",
    "$R=22 \\Omega$ <br>\n",
    "$L=11.3 uH$<br>\n",
    "$C=58 pF$<br>\n",
    "gives the following result. The code can be found at .. \n",
    "<img src=\"Images/RLC_circuit_Step_Response.jpg\" width=700 >."
   ]
  },
  {
   "cell_type": "code",
   "execution_count": null,
   "metadata": {},
   "outputs": [],
   "source": []
  }
 ],
 "metadata": {
  "kernelspec": {
   "display_name": "Python 3",
   "language": "python",
   "name": "python3"
  },
  "language_info": {
   "codemirror_mode": {
    "name": "ipython",
    "version": 3
   },
   "file_extension": ".py",
   "mimetype": "text/x-python",
   "name": "python",
   "nbconvert_exporter": "python",
   "pygments_lexer": "ipython3",
   "version": "3.7.4"
  },
  "latex_envs": {
   "LaTeX_envs_menu_present": true,
   "autoclose": false,
   "autocomplete": true,
   "bibliofile": "biblio.bib",
   "cite_by": "apalike",
   "current_citInitial": 1,
   "eqLabelWithNumbers": true,
   "eqNumInitial": 1,
   "hotkeys": {
    "equation": "Ctrl-E",
    "itemize": "Ctrl-I"
   },
   "labels_anchors": false,
   "latex_user_defs": false,
   "report_style_numbering": false,
   "user_envs_cfg": false
  },
  "toc": {
   "base_numbering": 1,
   "nav_menu": {},
   "number_sections": true,
   "sideBar": true,
   "skip_h1_title": false,
   "title_cell": "Table of Contents",
   "title_sidebar": "Contents",
   "toc_cell": false,
   "toc_position": {},
   "toc_section_display": true,
   "toc_window_display": false
  }
 },
 "nbformat": 4,
 "nbformat_minor": 2
}
