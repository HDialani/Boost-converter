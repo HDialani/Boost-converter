{
 "cells": [
  {
   "cell_type": "markdown",
   "metadata": {},
   "source": [
    "#  1 Read me\n",
    "\n",
    "This part goes over how I designed my inductor for DCM and CCM for both MOSFET and IGBT transistor designs. A few parameters were kept from the original university design. The reason being that I tried researching and finding my own parameters, but it became over a week of research and I was no closer to finding these values. Other parameters were fixed due to what was available at uni. The fixed parameters are core material and core shapes. The core material is the  3C90. As for the core shape I could choose between  ETD44 or ETD54. The air-gap even though not per se fixed can't be any value I wanted. I was limited to core spacers of $0.09 mm$, $0.13 mm$ and $0.61 mm$. The values I tried to self define were input voltage and output voltage. These are extremely use case dependent. Since I don't have a fixed per se I chose to go with the original values which were $V_{in}=45 V$ for both transistors and $V_{out}=150 V$ and $V_{out}=300 V$ for the MOSFET and IGBT respectively."
   ]
  },
  {
   "cell_type": "markdown",
   "metadata": {},
   "source": [
    "# 2 Inductor theory"
   ]
  },
  {
   "cell_type": "markdown",
   "metadata": {},
   "source": [
    "An inductor is a passive electronic component which can store electrical energy in the form of magnetic energy. I am going to assume the reader knows about magnetic circuit model. If not, please read [this](https://automationforum.co/difference-between-the-electric-circuit-and-magnetic-circuit/) or [this](https://dipslab.com/difference-electrical-magnetic-circuit/). The resistor analogy was used to find the inductance of the circuit. For this the flux linkage equation $\\lambda=N\\phi=L i$ and the flux equation $\\frac{Ni}{R_m}$ were combined to get $L=\\frac{N^2}{R_m}$, where $N$ is the number of turns and $R_m$ is the reluctance of the material. The general equation for reluctance is $R_m=\\frac{l}{\\mu_0 \\mu_r A}$, which looks similair to the equation for resistance $R_m=\\frac{l}{\\sigma A}$.\n",
    "The inductance equation can be rewritten as $L=\\frac{N^2 \\mu_0 \\mu_r A}{l}$. Looking at the second image below where the length keeps changing, if the lenght decreases the inducantance increases and this causes more magnet field to circulate around the inductor.For the simulation Ni remains constant. Thus if the length of the inductor increases the inductance decreases and thus less magnetic field is stored. Changing the area has the opposite effect as area increases inductance increases and as area decreases the inductance decreases. These simulations were done with a [online finite element method (FEM) simulator](https://www.ipes.ethz.ch/mod/lesson/view.php?id=22)\n",
    "\n",
    "<p float=\"left\">\n",
    "  <img src=\"Images/Inductor_magnetic_field_different_dimensions.jpg\" width=200 /> \n",
    "  <img src=\"Images/Inductor_magnetic_field_different_length.gif\" width=200 />\n",
    "  <img src=\"Images/Inductor_magnetic_field_different_area.gif\" width=200 />\n",
    "</p>\n",
    "\n",
    " Just like with a electrical model where the current going through the circuit is $i=\\frac{V}{R_{tot}}$ the magnetic circuit's inductance is $L=\\frac{N^2}{R_{tot}}$.\n",
    "<img src=\"Images/Total_reluctance_Inductor.jpg\" width=700 > \n",
    "\n",
    "In practice magnetic fiels leaks to the air this is knows as leakage inductance. A way to minimize this is to take a material with high $\\mu_r$ the simulation below shows the effect increasing the material's permeability has on the effective flux being produced. The green bar represents the magnitude of the magnetic flux between the two current carrying conductors.<br>\n",
    "<img src=\"Images/Inductor_magnetic_flux_different_ur.gif\" width=300 > "
   ]
  },
  {
   "cell_type": "markdown",
   "metadata": {},
   "source": [
    "# 3 Design requirements\n"
   ]
  },
  {
   "cell_type": "markdown",
   "metadata": {},
   "source": [
    "* Size, the smaller the better\n",
    "* Efficiency, the higher the better\n",
    "* EMI, as low as possible\n",
    "* Temperature, as low as possible\n",
    "* Cost, as low as possible"
   ]
  },
  {
   "cell_type": "markdown",
   "metadata": {},
   "source": [
    "#  4 Theoretical design \n",
    "\n",
    "The steps taken to design this inductor are modifications from different articles ...... . The general tip I would mention is that there is no fixed order. The order I am doing everything can be done in a different order. This is what I found out when reading all those different articles."
   ]
  },
  {
   "cell_type": "markdown",
   "metadata": {},
   "source": [
    " **Application**\n",
    " * This is a boost converter so it is a single winding inductor.\n",
    " * I will operate in both CCM and DCM mode for an IGBT and MOSFET based transistor, each transistor have differerent duty cycle, switching frequency and $V_{DS}$."
   ]
  },
  {
   "cell_type": "markdown",
   "metadata": {},
   "source": [
    "## 4.1 Step 1  Needed input parameters\n",
    "* Inductance value $L$\n",
    "* Operation frequency $f$\n",
    "* Current peak $i_{peak}$\n",
    "* Current RMS Inductor $i_{rms}$\n",
    "* Operation mode CCM/DCM\n",
    "* Allowable power dissipation $P_{core}$\n",
    "* Maximum surface temperature of the inductor $T_s$"
   ]
  },
  {
   "cell_type": "markdown",
   "metadata": {},
   "source": [
    "## 4.2 Step 2  Assumption parameter\n",
    "* $k_w$ is the window area utilization, typical values are $k_w\\approx 0.4 ... 0.6$. This factor is needed since the entire winding window can't be fully filled with copper wire. A portion of the area will be used up by the insulating material and air-gaps that can't be avoided.\n",
    "* $J_{RMS}$ limited to avoid excessive heat inside th e coil, values are $J_{RMS}\\approx 4 ... 5 A/mm^2$. Lower current density results in lower ohmic power loss. But it comes at the cost of larger wires, since $J=\\frac{i}{A}$.\n",
    "* $B_{max}$ limited due to saturation of th e core material, values are $B_{Max}\\approx  0.6 .. 0.8 B_{sat}$, lower $B_{Max}$ gives larger safety margin against saturation, however it comes at the cost of a larger inductor volume."
   ]
  },
  {
   "cell_type": "markdown",
   "metadata": {},
   "source": [
    "## 4.3 Step 3 Core materials type [1](https://en.wikipedia.org/wiki/Magnetic_core#Core_materials)  and [2](https://www.researchgate.net/publication/340073905_Advanced_Ferromagnetic_Materials_in_Power_Electronic_Converters_A_State_of_the_Art)\n",
    "\n",
    "* Iron based\n",
    "* Powder metal\n",
    "* Ferrites\n",
    "\n",
    "Read wiki for full detail"
   ]
  },
  {
   "cell_type": "markdown",
   "metadata": {},
   "source": [
    "## 4.4 Step 4 core shape types\n",
    "* E core\n",
    "* ETD core\n",
    "* I core\n",
    "* Toroidal core\n",
    "* Ring or bead\n",
    "\n",
    "Pick the shape that fits your application"
   ]
  },
  {
   "cell_type": "markdown",
   "metadata": {},
   "source": [
    "## 4.5 Step 5 pick the size\n",
    "Obviously the smaller the better\n",
    "\n",
    "<img src=\"Images/AP_Method_Areas_of_Interest.jpg\" width=400 >\n",
    "\n",
    "$A_P=\\frac{L\\cdot i_{peak} \\cdot i_{RMS}}{kw \\cdot J_{RMS}\\cdot B_{max}}$\n",
    "\n",
    "$A_P= A_w A_\\epsilon$\n",
    "\n",
    "Now you need to pick the shape, whose $A_P$ is larger than the one calculated."
   ]
  },
  {
   "cell_type": "markdown",
   "metadata": {},
   "source": [
    "## 4.6 Step 6 calculate number of turns\n",
    "\n",
    "$N=\\frac{L i_{peak}}{B_{max} A_\\epsilon}$"
   ]
  },
  {
   "cell_type": "markdown",
   "metadata": {},
   "source": [
    "## 4.7 Step 7 calculate air gap\n",
    "\n",
    "$l_{air}=\\frac{N^2 \\mu_0 A_c}{2 L}$"
   ]
  },
  {
   "cell_type": "markdown",
   "metadata": {},
   "source": [
    "## 4.8 Step 8 modify air gap or number of turns if needed\n",
    "A too large air gap results in a lot of lost magnetic field and too many turn can result in larger conduction losses. These are 2 reasons as to why either of the both parameters may need to be tuned. The benefit of the previous steps is that it gives a good starting point. Now either the air-gap or the number of turns need to be modified, while still staying in $B_{max}$. Either of the following equations can be used to find the new parameters. $N=\\sqrt{\\frac{2 L l_{air}}{\\mu_0 A_c}}$ or $l_{air}=\\frac{N^2 \\mu_0 A_c}{2 L}$."
   ]
  },
  {
   "cell_type": "markdown",
   "metadata": {},
   "source": [
    "## 4.9 Step 9 wire thickness\n",
    "The wire thickness has an effect on the conduction losses, skin and proximity effect.\n",
    "\n",
    "The skin dept sets the upper limit for wire thickness. For this $\\delta=\\sqrt{\\frac{1}{\\mu_0 \\mu_r \\pi \\sigma_{copper} f_{sw}}}$ is used.\n",
    "\n",
    "The $J_{RMS}$ sets the lower limit for wire thickness. With $A_{wire}=\\frac{i_{RMS}}{J_{RMS}}$\n",
    "\n",
    "Larger wires have worse proximity effect losses. The equation is quite scary so I won't add it."
   ]
  },
  {
   "cell_type": "markdown",
   "metadata": {},
   "source": [
    "## 4.10 Step 10 inductor temperature"
   ]
  },
  {
   "cell_type": "markdown",
   "metadata": {},
   "source": [
    "# 5 Constructing an inductor\n",
    "<img src=\"Images/Example_Inductor.jpeg\" width=300 >"
   ]
  },
  {
   "cell_type": "markdown",
   "metadata": {},
   "source": [
    "## 5.1 Materials\n",
    "\n",
    "1) 2 Metal clamps to lock Bobbin in place<br>\n",
    "2) 2 Magnetic cores<br>\n",
    "3) Bobbin<br>\n",
    "4) Chosen wire for turns<br>\n",
    "5) Some materials to construct the needed air-gap<br>"
   ]
  },
  {
   "cell_type": "markdown",
   "metadata": {},
   "source": [
    "## 5.2 Tools\n",
    "* Wire cutter\n",
    "* LCR meter\n",
    "* Caliper \n",
    "* Small screwdriver with flat tip to unlock the metal clips"
   ]
  },
  {
   "cell_type": "markdown",
   "metadata": {},
   "source": [
    "#  6 Designed inductor"
   ]
  },
  {
   "cell_type": "markdown",
   "metadata": {},
   "source": [
    "## 6.1 MOSFET"
   ]
  },
  {
   "cell_type": "markdown",
   "metadata": {},
   "source": [
    "### 6.1.1 Given parameters for both modes\n",
    "* $V_{in}=45V$\n",
    "* $V_{out}=150V$\n",
    "* $f_{sw}=80 kHz$"
   ]
  },
  {
   "cell_type": "markdown",
   "metadata": {},
   "source": [
    "## 6.2 MOSFET transistor CCM mode"
   ]
  },
  {
   "cell_type": "markdown",
   "metadata": {},
   "source": [
    "### CCM mode specific parameters\n",
    "* $D=0.7$\n",
    "* $\\Delta$,Ripple factor Peak-Peak during CCM mode is 0.4"
   ]
  },
  {
   "cell_type": "markdown",
   "metadata": {},
   "source": [
    "### 6.2.2 Important inductor parameters\n",
    "* $L=\\frac{D V_{in}}{f_{sw}\\Delta  i_{in}}$\n",
    "* $L=0.75mH$\n",
    "* $\\Delta I_{L}=\\frac{ D V_{in} }{L f_{sw}}$\n",
    "* $\\Delta I_{L}=0.5 A$\n",
    "* $i_{RMS}=\\sqrt{\\left(\\frac{I_{o}}{1-D}\\right)^{2}+\\frac{\\Delta I_{L}^{2}}{12}} $\n",
    "* $i_{RMS}=1.25 A$\n",
    "* $i_{peak}=i_{RMS}+0.5*\\Delta I_{L}$\n",
    "* $i_{peak}=1.5 A$"
   ]
  },
  {
   "cell_type": "markdown",
   "metadata": {},
   "source": [
    "### 6.2.3 Design\n",
    "* 3C90 core\n",
    "* ETD44 core shape\n",
    "* Number of turns=39\n",
    "* Air-gap=0.2 mm\n",
    "* Wire chosen 26 AWG\n",
    "* $B_{max}=$ 0.25 Tesla"
   ]
  },
  {
   "cell_type": "markdown",
   "metadata": {},
   "source": [
    "### 6.2.4 Simulation\n",
    "For simulation the program femm was used, because it is free and good enough for simple FEM simulation. https://www.femm.info/wiki/HomePage, here are some tutorials, https://www.youtube.com/watch?v=5LvWE1JscO4 , "
   ]
  },
  {
   "cell_type": "markdown",
   "metadata": {},
   "source": [
    "### 6.2.5 Actual model\n",
    "For air-gap I had access to spacers of 0.09,0.13 and 0.60 mm. So that needs to be modified. Also some addition turns had to be added or removed.\n",
    "\n",
    "Parameters      | Designed | Actual    |  \n",
    "---             | ---      | ---       | \n",
    "Core shape      | ETD44    | ETD44     |          \n",
    "Number of turns | $38$     | $40$      |     \n",
    "Air gap         | $0.2mm$  | $0.22$    |  \n",
    "Max flux density|          |           |\n",
    "Inductance      | $0.75 mH$ | $0.755 mH$ |  "
   ]
  },
  {
   "cell_type": "markdown",
   "metadata": {},
   "source": [
    "<img src=\"Images/MOSFET_CCM_inductor.jpeg\" width=500 >"
   ]
  },
  {
   "cell_type": "markdown",
   "metadata": {},
   "source": [
    "## 6.3 MOSFET transistor DCM mode( Need more investigation)"
   ]
  },
  {
   "cell_type": "markdown",
   "metadata": {},
   "source": [
    "### 6.3.1 DCM mode specific parameters"
   ]
  },
  {
   "cell_type": "markdown",
   "metadata": {},
   "source": [
    "###  6.3.2 Important inductor parameters\n",
    "* $L=\\frac{D^2 R V_{in}}{2 V_{out} f_{sw} (V_{out}-V_{in})} $, rewrite the duty cycle equation for DCM\n",
    "* $L=0.16 mH$\n",
    "* $\\Delta I_{L}=\\frac{ D V_{in} }{L f_{sw}}$\n",
    "* $\\Delta I_{L}=2.5 A$\n",
    "* $\\Delta_1= \\frac{2 V_{out}L f_{sw} }{D R V_{in}} $\n",
    "* $\\Delta_1=  0.3 $\n",
    "* $i_{RMS}=\\sqrt{\\left(D+\\Delta_{1}\\right) \\frac{\\Delta I_{L}^{2}}{3}} $\n",
    "* $i_{RMS}=1.4 A$\n",
    "* $i_{peak}= \\frac{V_{in} D}{L f_{sw}}$ [Reason](https://www.youtube.com/watch?v=6RuPplUim4E&list=PLmK1EnKxphinxBub5hL0ZoJXWoqjkGE19&index=36)\n",
    "* $i_{peak}=2.5 A$"
   ]
  },
  {
   "cell_type": "markdown",
   "metadata": {},
   "source": [
    "### 6.3.3 Design\n",
    "* 3C90 core\n",
    "* ETD44 core shape\n",
    "* Number of turns=17\n",
    "* Air-gap=0.2 mm\n",
    "* Wire chosen 26 AWG\n",
    "* $B_{max}=$   Tesla"
   ]
  },
  {
   "cell_type": "markdown",
   "metadata": {},
   "source": [
    "### 6.3.4  Simulation"
   ]
  },
  {
   "cell_type": "markdown",
   "metadata": {},
   "source": [
    "### 6.3.5 Actual model\n",
    "\n",
    "Parameters      | Designed| Actual  |  \n",
    "---             | ---     | ---     | \n",
    "Core shape      | ETD44   | ETD44   |          \n",
    "Number of turns | $12$    | $14$    |     \n",
    "Air gap         | $0.09 mm$| $0.09 mm$  |  \n",
    "Max flux density|         |         |\n",
    "Inductance      | $0.16 mH$| $0.16 mH$|  "
   ]
  },
  {
   "cell_type": "markdown",
   "metadata": {},
   "source": [
    "## 6.4 IGBT"
   ]
  },
  {
   "cell_type": "markdown",
   "metadata": {},
   "source": [
    "### 6.4.1 Given parameters for both modes\n",
    "* $V_{in}=45 V$\n",
    "* $V_{out}=300 V$\n",
    "* $f_{sw}=15 kHz$"
   ]
  },
  {
   "cell_type": "markdown",
   "metadata": {},
   "source": [
    "## IGBT transistor CCM mode"
   ]
  },
  {
   "cell_type": "markdown",
   "metadata": {},
   "source": [
    "### CCM mode specific parameters\n",
    "\n",
    "* $D=0.85$\n",
    "* $\\Delta$,Ripple factor Peak-Peak during CCM mode is 0.5"
   ]
  },
  {
   "cell_type": "markdown",
   "metadata": {},
   "source": [
    "### 6.5.2 Important inductor parameters\n",
    "* $L=1 mH$ \n",
    "* $i_{RMS}=  5 A$\n",
    "* $i_{peak}=  6.3 A$"
   ]
  },
  {
   "cell_type": "markdown",
   "metadata": {},
   "source": [
    "### 6.5.3 Design\n",
    "\n",
    "* 3C90 core\n",
    "* ETD54 core shape\n",
    "* Number of turns= 87\n",
    "* Air-gap=1.3 mm\n",
    "* Wire chosen 18 AWG\n",
    "* $B_{max}=$ 0.22 Tesla"
   ]
  },
  {
   "cell_type": "markdown",
   "metadata": {},
   "source": [
    "### 6.5.4 Simulation"
   ]
  },
  {
   "cell_type": "markdown",
   "metadata": {},
   "source": [
    "### 6.5.5 Actual model\n",
    "\n",
    "Parameters      | Designed| Actual  |  \n",
    "---             | ---     | ---     | \n",
    "Core shape      | ETD54   | ETD54   |          \n",
    "Number of turns | $84$    | $72$    |     \n",
    "Air gap         | $1.2 mm$| $1.24 mm$  |  \n",
    "Max flux density|         |         |\n",
    "Inductance      | $1 mH$| $1 mH$|  "
   ]
  },
  {
   "cell_type": "markdown",
   "metadata": {},
   "source": [
    "<img src=\"Images/IGBT_CCM_inductor.jpeg\" width=300 >"
   ]
  },
  {
   "cell_type": "markdown",
   "metadata": {},
   "source": [
    "## 6.6 IGBT transistor DCM mode"
   ]
  },
  {
   "cell_type": "markdown",
   "metadata": {},
   "source": [
    "### 6.6.1 Important inductor parameters\n",
    "* $L= 0.25 mH$ \n",
    "* $i_{RMS}=  5.8 A$\n",
    "* $i_{peak}=  10 A$"
   ]
  },
  {
   "cell_type": "markdown",
   "metadata": {},
   "source": [
    "### 6.6.2 Design"
   ]
  },
  {
   "cell_type": "markdown",
   "metadata": {},
   "source": [
    "### 6.6.3 Simulation"
   ]
  },
  {
   "cell_type": "markdown",
   "metadata": {},
   "source": [
    "### 6.6.4 Actual model"
   ]
  }
 ],
 "metadata": {
  "kernelspec": {
   "display_name": "Python 3",
   "language": "python",
   "name": "python3"
  },
  "language_info": {
   "codemirror_mode": {
    "name": "ipython",
    "version": 3
   },
   "file_extension": ".py",
   "mimetype": "text/x-python",
   "name": "python",
   "nbconvert_exporter": "python",
   "pygments_lexer": "ipython3",
   "version": "3.7.4"
  },
  "latex_envs": {
   "LaTeX_envs_menu_present": true,
   "autoclose": false,
   "autocomplete": true,
   "bibliofile": "biblio.bib",
   "cite_by": "apalike",
   "current_citInitial": 1,
   "eqLabelWithNumbers": true,
   "eqNumInitial": 1,
   "hotkeys": {
    "equation": "Ctrl-E",
    "itemize": "Ctrl-I"
   },
   "labels_anchors": false,
   "latex_user_defs": false,
   "report_style_numbering": false,
   "user_envs_cfg": false
  },
  "toc": {
   "base_numbering": 1,
   "nav_menu": {},
   "number_sections": true,
   "sideBar": true,
   "skip_h1_title": false,
   "title_cell": "Table of Contents",
   "title_sidebar": "Contents",
   "toc_cell": false,
   "toc_position": {},
   "toc_section_display": true,
   "toc_window_display": false
  }
 },
 "nbformat": 4,
 "nbformat_minor": 2
}
