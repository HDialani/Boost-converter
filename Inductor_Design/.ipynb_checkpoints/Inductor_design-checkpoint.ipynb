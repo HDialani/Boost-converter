{
 "cells": [
  {
   "cell_type": "markdown",
   "metadata": {},
   "source": [
    "#  1 Read me\n",
    "\n",
    "This part goes over how I designed my inductor for DCM and CCM for both MOSFET and IGBT transistor designs. A few parameters were kept from the original university design. The reason being that I tried researching and finding my own parameters, but it became over a week of research and I was no closer to finding these values. Other parameters were fixed due to what was available at uni. The fixed parameters are core material and core shapes. The core material is the  3C90. As for the core shape I could choose between  ETD44 or ETD54. The air-gap even though not per se fixed can't be any value I wanted. I was limited to core spacers of $0.09 mm$, $0.13 mm$ and $0.61 mm$. The values I tried to self define were input voltage and output voltage. These are extremely use case dependent. Since I don't have a fixed per se I chose to go with the original values which were $V_{in}=45 V$ for both transistors and $V_{out}=150 V$ and $V_{out}=300 V$ for the MOSFET and IGBT respectively."
   ]
  },
  {
   "cell_type": "markdown",
   "metadata": {},
   "source": [
    "# 2 Inductor theory"
   ]
  },
  {
   "cell_type": "markdown",
   "metadata": {},
   "source": [
    "An inductor is a passive electronic component which can store electrical energy in the form of magnetic energy. I am going to assume the reader knows about magnetic circuit model. If not, please read [this](https://automationforum.co/difference-between-the-electric-circuit-and-magnetic-circuit/) or [this](https://dipslab.com/difference-electrical-magnetic-circuit/). The resistor analogy was used to find the inductance of the circuit. For this the flux linkage equation $\\lambda=N\\phi=L i$ and the flux equation $\\frac{Ni}{R_m}$ were combined to get $L=\\frac{N^2}{R_m}$, where $N$ is the number of turns and $R_m$ is the reluctance of the material. The general equation for reluctance is $R_m=\\frac{l}{\\mu_0 \\mu_r A}$, which looks similair to the equation for resistance $R_m=\\frac{l}{\\sigma A}$.\n",
    "The inductance equation can be rewritten as $L=\\frac{N^2 \\mu_0 \\mu_r A}{l}$. Looking at the second image below where the length keeps changing, if the lenght decreases the inducantance increases and this causes more magnet field to circulate around the inductor.For the simulation Ni remains constant. Thus if the length of the inductor increases the inductance decreases and thus less magnetic field is stored. Changing the area has the opposite effect as area increases inductance increases and as area decreases the inductance decreases. These simulations were done with a [online finite element method (FEM) simulator](https://www.ipes.ethz.ch/mod/lesson/view.php?id=22)\n",
    "\n",
    "<p float=\"left\">\n",
    "  <img src=\"Images/Inductor_magnetic_field_different_dimensions.jpg\" width=200 /> \n",
    "  <img src=\"Images/Inductor_magnetic_field_different_length.gif\" width=200 />\n",
    "  <img src=\"Images/Inductor_magnetic_field_different_area.gif\" width=200 />\n",
    "</p>\n",
    "\n",
    " Just like with a electrical model where the current going through the circuit is $i=\\frac{V}{R_{tot}}$ the magnetic circuit's inductance is $L=\\frac{N^2}{R_{tot}}$.\n",
    "<img src=\"Images/Total_reluctance_Inductor.jpg\" width=700 > \n",
    "\n",
    "In practice magnetic fiels leaks to the air this is knows as leakage inductance. A way to minimize this is to take a material with high $\\mu_r$ the simulation below shows the effect increasing the material's permeability has on the effective flux being produced. The green bar represents the magnitude of the magnetic flux between the two current carrying conductors.<br>\n",
    "<img src=\"Images/Inductor_magnetic_flux_different_ur.gif\" width=300 > "
   ]
  },
  {
   "cell_type": "markdown",
   "metadata": {},
   "source": [
    "# 3 Design requirements\n"
   ]
  },
  {
   "cell_type": "markdown",
   "metadata": {},
   "source": [
    "* Size, the smaller the better\n",
    "* Efficiency, the higher the better\n",
    "* EMI, as low as possible\n",
    "* Temperature, as low as possible\n",
    "* Cost, as low as possible"
   ]
  },
  {
   "cell_type": "markdown",
   "metadata": {},
   "source": [
    "#  4 Theoretical design \n",
    "\n",
    "The steps taken to design this inductor are modifications from different articles ...... . The general tip I would mention is that there is no fixed order. The order I am doing everything can be done in a different order. This is what I found out when reading all those different articles."
   ]
  },
  {
   "cell_type": "code",
   "execution_count": null,
   "metadata": {},
   "outputs": [],
   "source": []
  }
 ],
 "metadata": {
  "kernelspec": {
   "display_name": "Python 3",
   "language": "python",
   "name": "python3"
  },
  "language_info": {
   "codemirror_mode": {
    "name": "ipython",
    "version": 3
   },
   "file_extension": ".py",
   "mimetype": "text/x-python",
   "name": "python",
   "nbconvert_exporter": "python",
   "pygments_lexer": "ipython3",
   "version": "3.7.4"
  },
  "latex_envs": {
   "LaTeX_envs_menu_present": true,
   "autoclose": false,
   "autocomplete": true,
   "bibliofile": "biblio.bib",
   "cite_by": "apalike",
   "current_citInitial": 1,
   "eqLabelWithNumbers": true,
   "eqNumInitial": 1,
   "hotkeys": {
    "equation": "Ctrl-E",
    "itemize": "Ctrl-I"
   },
   "labels_anchors": false,
   "latex_user_defs": false,
   "report_style_numbering": false,
   "user_envs_cfg": false
  },
  "toc": {
   "base_numbering": 1,
   "nav_menu": {},
   "number_sections": true,
   "sideBar": true,
   "skip_h1_title": false,
   "title_cell": "Table of Contents",
   "title_sidebar": "Contents",
   "toc_cell": false,
   "toc_position": {},
   "toc_section_display": true,
   "toc_window_display": false
  }
 },
 "nbformat": 4,
 "nbformat_minor": 2
}
