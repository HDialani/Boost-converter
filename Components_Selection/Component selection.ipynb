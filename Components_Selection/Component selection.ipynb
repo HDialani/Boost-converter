{
 "cells": [
  {
   "cell_type": "markdown",
   "metadata": {},
   "source": [
    "# Read me\n",
    "Hi here I want to go over the components selection that were done. Material type and final values as well as an explanation as to what to pay attention to when selection component and values."
   ]
  },
  {
   "cell_type": "markdown",
   "metadata": {},
   "source": [
    "# Capacitor\n",
    "Let's start with capacitor. In general there are 3 types of capacitor materials:Film capacitor, Multilayer Ceramic chip capacitor(MLCC's) and Electrolytic Capacitors (E-cap). They can be further divided into more sub catagories. More on that later. I am going to summarize the results in the table below. Most of the values are from the source:https://www.youtube.com/watch?v=2v8zBj7_sxg"
   ]
  },
  {
   "cell_type": "markdown",
   "metadata": {},
   "source": [
    "Material | Cost | Max temp | Ripple current | Size | Mouniting | frequency range of operation | Failure rate | energy density | 26 | 276 | Typical applicitation\n",
    "--- | --- | --- | --- |--- |--- |--- |--- |--- |--- |--- |---\n",
    "Film | mid | $110^0 C$ | low | mid/large | mostly THT/ rare SMD | high MHz | low | high| mid | 276 | Decoupling,Filter with certain cut-off frequency,High reliability application, EMI suppresion\n",
    "MLCC's| high| $200^0 C$ | mid | low | mostly SMD/rare THT | can go to GHz | low | low | 272 | 276 | Decoupling,High frequency Energy storage,Filter with rough cut-off frequency, EMI suppresion\n",
    "E-cap | low | $150^0 C$ | high | mid/large |THT/SMD | low kHz | high | high | #9 | #10 | DC Link, Low frequency Energy storage"
   ]
  },
  {
   "cell_type": "markdown",
   "metadata": {},
   "source": [
    "## Further divisions of capacitors\n",
    "For E-caps, look here for detailed explanation of differences :https://en.wikipedia.org/wiki/Electrolytic_capacitor <br />  <img src=\"Images/Electrolytic_capacitor_tree.jpg\" width=500 >\n",
    "\n",
    "For Film caps:https://en.wikipedia.org/wiki/Film_capacitor\n",
    "\n",
    "For MLCC look here for detailed explanation:https://en.wikipedia.org/wiki/Ceramic_capacitor  <br />  <img src=\"Images/Ceramic_capacitor_classes.jpg\" width=750 >, source:(https://www.electronics-notes.com/articles/electronic_components/capacitors/ceramic-dielectric-types-c0g-x7r-z5u-y5v.php)"
   ]
  },
  {
   "cell_type": "markdown",
   "metadata": {},
   "source": [
    "## Important parameters\n",
    "* Technology\n",
    "* Capacitance\n",
    "* Accuracy\n",
    "* ESR\n",
    "* Inductance\n",
    "* Frequency\n",
    "* Max current\n",
    "* Max temperature\n",
    "* Temperature sensativity\n",
    "* Power dissipation\n",
    "* Size\n",
    "* Cost"
   ]
  },
  {
   "cell_type": "markdown",
   "metadata": {},
   "source": [
    "## Leakage and Electrical characteristics of Capacitor\n",
    "\n",
    "In uni you learn about ideal capacitors, in the real world we can't ignore parasitics sadly."
   ]
  },
  {
   "cell_type": "markdown",
   "metadata": {},
   "source": [
    "### How to get the parasitic values? \n",
    "1 Explicity written in datasheet \n",
    "2 They only give you a charachteristic impedance in datasheet and then you need to extract them \n",
    "3 They give you a Spice model and you use that for simlations\n",
    " \n",
    "I will use method 2 for the values.\n",
    "\n",
    "### LTspice vs actual model\n",
    "\n",
    "### Make it more accurate?\n",
    "\n",
    "### Other important parameters that effect capacitors\n",
    "Other important parameters that are usefull to know is how the capacitor changes due to temperature, applied voltage (DC bias voltage) and ripple current\n",
    "\n",
    "\n",
    "### Spice vs measured comparason\n",
    "\n",
    "\n",
    "\n",
    "## Understanding capacitor datasheet "
   ]
  },
  {
   "cell_type": "markdown",
   "metadata": {},
   "source": [
    "# Inductor\n",
    "\n",
    "# Diode"
   ]
  },
  {
   "cell_type": "markdown",
   "metadata": {},
   "source": [
    "# Transistor\n",
    "## Technologies\n",
    "<img src=\"Images/Transistor_topologies.jpg\" width=500 ><br />\n",
    "source:https://www.allaboutcircuits.com/technical-articles/fet-vs-bjt-vs-igbt-whats-the-right-choice-for-your-power-stage-design/\n",
    "\n",
    "Low power<br />\n",
    "<p float=\"left\">\n",
    "  <img src=\"Images/Transistor_topologies_BJT.jpg\" width=500 > \n",
    "  <img src=\"Images/Transistor_topologies_MOSFET.jpg\" width=500 > \n",
    "</p>\n",
    "source:https://wiraelectrical.com/bjt-vs-mosfet-difference/\n",
    "\n",
    "High Power<br />\n",
    "<img src=\"Images/Transistor_topology_high_power.jpg\" width=500 ><br />\n",
    "source:https://techweb.rohm.com/knowledge/\n",
    "\n",
    "## Important parameters when picking technology\n",
    "* Voltage rating\n",
    "* Switching frequency\n",
    "* Conduction losses\n"
   ]
  }
 ],
 "metadata": {
  "kernelspec": {
   "display_name": "Python 3",
   "language": "python",
   "name": "python3"
  },
  "language_info": {
   "codemirror_mode": {
    "name": "ipython",
    "version": 3
   },
   "file_extension": ".py",
   "mimetype": "text/x-python",
   "name": "python",
   "nbconvert_exporter": "python",
   "pygments_lexer": "ipython3",
   "version": "3.7.4"
  },
  "latex_envs": {
   "LaTeX_envs_menu_present": true,
   "autoclose": false,
   "autocomplete": true,
   "bibliofile": "biblio.bib",
   "cite_by": "apalike",
   "current_citInitial": 1,
   "eqLabelWithNumbers": true,
   "eqNumInitial": 1,
   "hotkeys": {
    "equation": "Ctrl-E",
    "itemize": "Ctrl-I"
   },
   "labels_anchors": false,
   "latex_user_defs": false,
   "report_style_numbering": false,
   "user_envs_cfg": false
  },
  "toc": {
   "base_numbering": 1,
   "nav_menu": {},
   "number_sections": true,
   "sideBar": true,
   "skip_h1_title": false,
   "title_cell": "Table of Contents",
   "title_sidebar": "Contents",
   "toc_cell": false,
   "toc_position": {},
   "toc_section_display": true,
   "toc_window_display": false
  }
 },
 "nbformat": 4,
 "nbformat_minor": 2
}
